{
 "cells": [
  {
   "cell_type": "markdown",
   "metadata": {},
   "source": [
    "# Python For loops Lab"
   ]
  },
  {
   "cell_type": "markdown",
   "metadata": {},
   "source": [
    "### Learning Objectives"
   ]
  },
  {
   "cell_type": "markdown",
   "metadata": {},
   "source": [
    "* Understand how for loops can help us reduce repetition\n",
    "* Understand the syntax of for loops "
   ]
  },
  {
   "cell_type": "markdown",
   "metadata": {},
   "source": [
    "### Picking up where we last left off"
   ]
  },
  {
   "cell_type": "markdown",
   "metadata": {},
   "source": [
    "In the last lesson, we worked with some of our travel data.  Let's retrieve a list with our travel information again from excel.  First, we read the information from excel as a list of dictionaries, with each dictionary representing a location.  And we assign this list to the variable `cities`."
   ]
  },
  {
   "cell_type": "code",
   "execution_count": 2,
   "metadata": {},
   "outputs": [
    {
     "data": {
      "text/plain": [
       "[{'City': 'Buenos Aires',\n",
       "  'Country': 'Argentina',\n",
       "  'Population': 2891,\n",
       "  'Area': 203},\n",
       " {'City': 'Toronto', 'Country': 'Canada', 'Population': 2732, 'Area': 630},\n",
       " {'City': 'Marakesh', 'Country': 'Morocco', 'Population': 929, 'Area': 230},\n",
       " {'City': 'Albuquerque', 'Country': 'USA', 'Population': 559, 'Area': 491},\n",
       " {'City': 'Los Cabos', 'Country': 'Mexico', 'Population': 288, 'Area': 3751},\n",
       " {'City': 'Greenville', 'Country': 'USA', 'Population': 93, 'Area': 68},\n",
       " {'City': 'Archipelago Sea',\n",
       "  'Country': 'Finland',\n",
       "  'Population': 60,\n",
       "  'Area': 2000},\n",
       " {'City': 'Pyeongchang',\n",
       "  'Country': 'South Korea',\n",
       "  'Population': 44,\n",
       "  'Area': 1464},\n",
       " {'City': 'Walla Walla Valley',\n",
       "  'Country': 'USA',\n",
       "  'Population': 33,\n",
       "  'Area': 35},\n",
       " {'City': 'Salina Island', 'Country': 'Italy', 'Population': 3, 'Area': 26},\n",
       " {'City': 'Solta', 'Country': 'Croatia', 'Population': 2, 'Area': 59},\n",
       " {'City': 'Iguazu Falls',\n",
       "  'Country': 'Argentina',\n",
       "  'Population': 0,\n",
       "  'Area': 2396}]"
      ]
     },
     "execution_count": 2,
     "metadata": {},
     "output_type": "execute_result"
    }
   ],
   "source": [
    "import pandas\n",
    "file_name = './cities.xlsx'\n",
    "travel_df = pandas.read_excel(file_name)\n",
    "cities = travel_df.to_dict('records')\n",
    "cities"
   ]
  },
  {
   "cell_type": "markdown",
   "metadata": {},
   "source": [
    "Next, we retrieve the first three city names, stored as the `'City'` attribute of each dictionary, and `'Population'` of each of the cities.  Then we plot the names as our `x_values` and the populations as our `y_values`."
   ]
  },
  {
   "cell_type": "code",
   "execution_count": 3,
   "metadata": {},
   "outputs": [
    {
     "data": {
      "text/html": [
       "        <script type=\"text/javascript\">\n",
       "        window.PlotlyConfig = {MathJaxConfig: 'local'};\n",
       "        if (window.MathJax) {MathJax.Hub.Config({SVG: {font: \"STIX-Web\"}});}\n",
       "        if (typeof require !== 'undefined') {\n",
       "        require.undef(\"plotly\");\n",
       "        requirejs.config({\n",
       "            paths: {\n",
       "                'plotly': ['https://cdn.plot.ly/plotly-latest.min']\n",
       "            }\n",
       "        });\n",
       "        require(['plotly'], function(Plotly) {\n",
       "            window._Plotly = Plotly;\n",
       "        });\n",
       "        }\n",
       "        </script>\n",
       "        "
      ]
     },
     "metadata": {},
     "output_type": "display_data"
    },
    {
     "data": {
      "application/vnd.plotly.v1+json": {
       "config": {
        "linkText": "Export to plot.ly",
        "plotlyServerURL": "https://plot.ly",
        "showLink": false
       },
       "data":